{
 "cells": [
  {
   "cell_type": "code",
   "execution_count": 3,
   "metadata": {},
   "outputs": [],
   "source": [
    "import pandas as pd\n",
    "import numpy as np"
   ]
  },
  {
   "cell_type": "code",
   "execution_count": 4,
   "metadata": {
    "collapsed": true
   },
   "outputs": [],
   "source": [
    "def check_input_data(data):\n",
    "    #num of NaNs\n",
    "    print(data.isnull().sum().sum(), \"will be filled\") \n",
    "    \n",
    "    #Unnamed columns check\n",
    "    print(\"Unnamed columns :\", data2.columns.str.contains('^Unnamed').sum()) #num of unnamed columns\n",
    "    assert not data2.columns.str.contains('^Unnamed').any(), \"There are unnamed columns!\"\n",
    "    \n",
    "    #Index uniqueness check  \n",
    "    assert len(data.index.unique()) == len(data.index), \"Nonunique row index!\"\n",
    "    \n",
    "    assert data.index.notnull().all(), \"Missing an index!\"\n",
    "    \n",
    "    #Column type check\n",
    "    for i in data.columns:\n",
    "        assert data[i].dtype != 'O', \"Different types in column!\""
   ]
  }
 ],
 "metadata": {
  "anaconda-cloud": {},
  "kernelspec": {
   "display_name": "Python 3",
   "language": "python",
   "name": "python3"
  },
  "language_info": {
   "codemirror_mode": {
    "name": "ipython",
    "version": 3
   },
   "file_extension": ".py",
   "mimetype": "text/x-python",
   "name": "python",
   "nbconvert_exporter": "python",
   "pygments_lexer": "ipython3",
   "version": "3.5.2"
  }
 },
 "nbformat": 4,
 "nbformat_minor": 1
}
